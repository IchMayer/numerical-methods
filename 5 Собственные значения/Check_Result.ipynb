{
 "cells": [
  {
   "cell_type": "code",
   "execution_count": 1,
   "metadata": {},
   "outputs": [
    {
     "name": "stdout",
     "output_type": "stream",
     "text": [
      "min:  (-0.6615230090217503-0.1304444516726193j)\n",
      "max:  (0.1691998780435009+0j)\n"
     ]
    }
   ],
   "source": [
    "import numpy as np\n",
    "from io import  StringIO\n",
    "\n",
    "#n = 5\n",
    "\n",
    "matrix = \"\"\"\n",
    "-0.38461538 0.23076923 0.46153846\n",
    "0.30769231 -0.38461538 0.23076923\n",
    "0.15384615 0.30769231 -0.38461538\n",
    "\"\"\"\n",
    "        \n",
    "a = np.loadtxt(StringIO(matrix))\n",
    "\n",
    "#a = a[:n, :n]\n",
    "\n",
    "\n",
    "#for i in range(n):\n",
    "    #for j in range(n):\n",
    "        #a[i][j] = 1 / (i + j + 1.0)\n",
    "        #a[i][j] = 0\n",
    "        #a[i][j] = 0\n",
    "        \n",
    "e = np.linalg.eigvals(a)\n",
    "print(\"min: \" , e.min())\n",
    "print(\"max: \" , e.max())\n",
    "\n",
    "#for i in range(n):\n",
    "   # print(e[i])"
   ]
  },
  {
   "cell_type": "code",
   "execution_count": 2,
   "metadata": {},
   "outputs": [
    {
     "ename": "TypeError",
     "evalue": "unsupported operand type(s) for /: 'int' and 'builtin_function_or_method'",
     "output_type": "error",
     "traceback": [
      "\u001b[1;31m---------------------------------------------------------------------------\u001b[0m",
      "\u001b[1;31mTypeError\u001b[0m                                 Traceback (most recent call last)",
      "\u001b[1;32m<ipython-input-2-7f3fa874716c>\u001b[0m in \u001b[0;36m<module>\u001b[1;34m()\u001b[0m\n\u001b[1;32m----> 1\u001b[1;33m \u001b[1;36m1\u001b[0m\u001b[1;33m/\u001b[0m\u001b[0me\u001b[0m\u001b[1;33m.\u001b[0m\u001b[0mmax\u001b[0m\u001b[1;33m\u001b[0m\u001b[0m\n\u001b[0m",
      "\u001b[1;31mTypeError\u001b[0m: unsupported operand type(s) for /: 'int' and 'builtin_function_or_method'"
     ]
    }
   ],
   "source": [
    "1/e.max"
   ]
  },
  {
   "cell_type": "code",
   "execution_count": null,
   "metadata": {},
   "outputs": [],
   "source": []
  }
 ],
 "metadata": {
  "kernelspec": {
   "display_name": "Python 3",
   "language": "python",
   "name": "python3"
  },
  "language_info": {
   "codemirror_mode": {
    "name": "ipython",
    "version": 3
   },
   "file_extension": ".py",
   "mimetype": "text/x-python",
   "name": "python",
   "nbconvert_exporter": "python",
   "pygments_lexer": "ipython3",
   "version": "3.7.1"
  }
 },
 "nbformat": 4,
 "nbformat_minor": 2
}

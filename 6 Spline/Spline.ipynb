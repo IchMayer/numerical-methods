{
 "cells": [
  {
   "cell_type": "code",
   "execution_count": 7,
   "metadata": {},
   "outputs": [],
   "source": [
    "import matplotlib.pyplot as plt\n",
    "import math\n",
    "import numpy as np"
   ]
  },
  {
   "cell_type": "code",
   "execution_count": 8,
   "metadata": {},
   "outputs": [],
   "source": [
    "n = 4     \n",
    "m = 1000\n",
    "\n",
    "#Вклад i элемента массива\n",
    "def fi(ep, x, i):\n",
    "    mult = 1\n",
    "    for j in range(n):\n",
    "        if(i != j):\n",
    "            mult *= ep - x[j]\n",
    "            mult /= x[i] - x[j]\n",
    "    return mult\n",
    "\n",
    "def ji1(ep, x, i):\n",
    "    return -9 / 2 *(ep - 1/3)*(ep - 2/3)*(ep - 1)\n",
    "\n",
    "def ji2(ep, x, i):\n",
    "    return 27/2* ep *(ep-2/3)*(ep-1)\n",
    "\n",
    "def ji3(ep, x, i):\n",
    "    return -27/2* ep *(ep-1/3)*(ep-1)\n",
    "\n",
    "def ji4(ep, x, i):\n",
    "    return 9/2* ep *(ep-2/3)*(ep-1/3)\n",
    "\n",
    "\n",
    "#Значение функции в точке ep\n",
    "def f(ep, x, y):\n",
    "    sum = 0\n",
    "    for i in range(n):\n",
    "        sum += y[i] * fi(ep, x, i)\n",
    "    return sum\n"
   ]
  },
  {
   "cell_type": "code",
   "execution_count": 9,
   "metadata": {},
   "outputs": [],
   "source": [
    "b = 1 #При разбиении с остатком остаток добавлять в последний или рисовать свой\n",
    "\n",
    "xrange = []\n",
    "yrange = []\n",
    "\n",
    "xp = [0, 1, 2, 3]\n",
    "yp = [4, 3, 2, 1]\n",
    "\n",
    "x = []\n",
    "y = []\n",
    "k = int((len(xp) - 1) / (n-1))\n",
    "\n",
    "#Проверка на разбиение без остатка\n",
    "p = len(xp) - 1 - (n-1) * k\n",
    "\n",
    "lastn = n\n",
    "\n",
    "for j in range(k):\n",
    "    s = (n-1)*j\n",
    "    if j == k-1 and b == 1 and p != 0:\n",
    "        n += p\n",
    "    x += [xp[s: s + n]]\n",
    "    y += [yp[s: s + n]]\n",
    "    for i in np.linspace(x[j][0], x[j][-1], m):\n",
    "        xrange += [i]\n",
    "        yrange += [f(i, x[j], y[j])]\n",
    "n = lastn\n",
    "\n",
    "#если количество элементов не кратно (n-1)*k - 1,  k ∈ N\n",
    "if b == 0 and p != 0:\n",
    "    x += [xp[(n-1)*k: (n-1)*k + p + 1]]\n",
    "    y += [yp[(n-1)*k: (n-1)*k + p + 1]]\n",
    "    for i in range(n - p - 1):\n",
    "        x[k] += [2 * x[k][-1] - x[k][-2]]\n",
    "        y[k] += [2 * y[k][-1] - y[k][-2]] \n",
    "    for i in np.linspace(x[k][0], x[k][p], m):\n",
    "        xrange += [i]\n",
    "        yrange += [f(i, x[k], y[k])]"
   ]
  },
  {
   "cell_type": "code",
   "execution_count": 10,
   "metadata": {},
   "outputs": [
    {
     "data": {
      "text/plain": [
       "[<matplotlib.lines.Line2D at 0x25b5c0fc860>]"
      ]
     },
     "execution_count": 10,
     "metadata": {},
     "output_type": "execute_result"
    },
    {
     "data": {
      "image/png": "[encoded data removed]",
      "text/plain": [
       "<Figure size 432x288 with 1 Axes>"
      ]
     },
     "metadata": {
      "needs_background": "light"
     },
     "output_type": "display_data"
    }
   ],
   "source": [
    "plt.plot(xrange, yrange)\n",
    "plt.plot(xp, yp, \"+\")"
   ]
  },
  {
   "cell_type": "code",
   "execution_count": 57,
   "metadata": {},
   "outputs": [],
   "source": [
    "#Поиск значений в точках\n",
    "def Find(X):\n",
    "    for j in range(k):\n",
    "        if x[j][0] <= X <= x[j][-1]:\n",
    "            return f(X, x[j], y[j])\n",
    "    if p != 0:\n",
    "        if x[k][0] <= x <= x[k][p]:\n",
    "            return f(X, x[k], y[k])\n",
    "    return 'Ошибка'"
   ]
  },
  {
   "cell_type": "code",
   "execution_count": 214,
   "metadata": {},
   "outputs": [
    {
     "data": {
      "text/plain": [
       "8.0"
      ]
     },
     "execution_count": 214,
     "metadata": {},
     "output_type": "execute_result"
    }
   ],
   "source": [
    "Find(2)"
   ]
  },
  {
   "cell_type": "code",
   "execution_count": 213,
   "metadata": {},
   "outputs": [
    {
     "data": {
      "text/plain": [
       "0.0"
      ]
     },
     "execution_count": 213,
     "metadata": {},
     "output_type": "execute_result"
    }
   ],
   "source": [
    "Find(0)"
   ]
  },
  {
   "cell_type": "code",
   "execution_count": 215,
   "metadata": {},
   "outputs": [
    {
     "data": {
      "text/plain": [
       "0.125"
      ]
     },
     "execution_count": 215,
     "metadata": {},
     "output_type": "execute_result"
    }
   ],
   "source": [
    "Find(0.5)"
   ]
  },
  {
   "cell_type": "code",
   "execution_count": null,
   "metadata": {},
   "outputs": [],
   "source": []
  }
 ],
 "metadata": {
  "kernelspec": {
   "display_name": "Python 3",
   "language": "python",
   "name": "python3"
  },
  "language_info": {
   "codemirror_mode": {
    "name": "ipython",
    "version": 3
   },
   "file_extension": ".py",
   "mimetype": "text/x-python",
   "name": "python",
   "nbconvert_exporter": "python",
   "pygments_lexer": "ipython3",
   "version": "3.7.1"
  }
 },
 "nbformat": 4,
 "nbformat_minor": 2
}
